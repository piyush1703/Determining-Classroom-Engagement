{
  "cells": [
    {
      "cell_type": "code",
      "execution_count": null,
      "metadata": {
        "id": "RiIEwKV8-jbU"
      },
      "outputs": [],
      "source": [
        "!pip install tensorflow"
      ]
    },
    {
      "cell_type": "code",
      "execution_count": 1,
      "metadata": {
        "colab": {
          "base_uri": "https://localhost:8080/"
        },
        "id": "_s_LEk5NQb__",
        "outputId": "5535958e-a1dc-4e71-a629-6eb3571a385c"
      },
      "outputs": [
        {
          "name": "stdout",
          "output_type": "stream",
          "text": [
            "Epoch 1/20\n",
            "2/2 [==============================] - 5s 534ms/step - loss: 7608.8164 - accuracy: 0.5000 - val_loss: nan - val_accuracy: 1.0000\n",
            "Epoch 2/20\n",
            "2/2 [==============================] - 0s 271ms/step - loss: 12598.2988 - accuracy: 0.6875 - val_loss: nan - val_accuracy: 0.5000\n",
            "Epoch 3/20\n",
            "2/2 [==============================] - 0s 262ms/step - loss: 4792.3711 - accuracy: 0.7188 - val_loss: nan - val_accuracy: 0.6250\n",
            "Epoch 4/20\n",
            "2/2 [==============================] - 0s 263ms/step - loss: 2430.5127 - accuracy: 0.5625 - val_loss: nan - val_accuracy: 0.6250\n",
            "Epoch 5/20\n",
            "2/2 [==============================] - 0s 267ms/step - loss: 1451.0564 - accuracy: 0.8125 - val_loss: nan - val_accuracy: 1.0000\n",
            "Epoch 6/20\n",
            "2/2 [==============================] - 0s 290ms/step - loss: 246.2198 - accuracy: 1.0000 - val_loss: nan - val_accuracy: 0.7500\n",
            "Epoch 7/20\n",
            "2/2 [==============================] - 0s 291ms/step - loss: 495.7017 - accuracy: 0.8750 - val_loss: nan - val_accuracy: 0.7500\n",
            "Epoch 8/20\n",
            "2/2 [==============================] - 0s 287ms/step - loss: 189.8627 - accuracy: 0.9375 - val_loss: nan - val_accuracy: 0.7500\n",
            "Epoch 9/20\n",
            "2/2 [==============================] - 0s 286ms/step - loss: 1.7321 - accuracy: 1.0000 - val_loss: nan - val_accuracy: 1.0000\n",
            "Epoch 10/20\n",
            "2/2 [==============================] - 0s 271ms/step - loss: 0.0000e+00 - accuracy: 1.0000 - val_loss: nan - val_accuracy: 1.0000\n",
            "Epoch 11/20\n",
            "2/2 [==============================] - 0s 269ms/step - loss: 0.0000e+00 - accuracy: 1.0000 - val_loss: nan - val_accuracy: 1.0000\n",
            "Epoch 12/20\n",
            "2/2 [==============================] - 0s 272ms/step - loss: 0.0000e+00 - accuracy: 1.0000 - val_loss: nan - val_accuracy: 1.0000\n",
            "Epoch 13/20\n",
            "2/2 [==============================] - 0s 286ms/step - loss: 0.0000e+00 - accuracy: 1.0000 - val_loss: nan - val_accuracy: 1.0000\n",
            "Epoch 14/20\n",
            "2/2 [==============================] - 0s 274ms/step - loss: 0.0000e+00 - accuracy: 1.0000 - val_loss: nan - val_accuracy: 1.0000\n",
            "Epoch 15/20\n",
            "2/2 [==============================] - 0s 298ms/step - loss: 0.0000e+00 - accuracy: 1.0000 - val_loss: nan - val_accuracy: 0.8750\n",
            "Epoch 16/20\n",
            "2/2 [==============================] - 1s 297ms/step - loss: 0.0000e+00 - accuracy: 1.0000 - val_loss: nan - val_accuracy: 0.8750\n",
            "Epoch 17/20\n",
            "2/2 [==============================] - 1s 305ms/step - loss: 0.0000e+00 - accuracy: 1.0000 - val_loss: nan - val_accuracy: 0.8750\n",
            "Epoch 18/20\n",
            "2/2 [==============================] - 0s 290ms/step - loss: 21.9726 - accuracy: 1.0000 - val_loss: nan - val_accuracy: 0.8750\n",
            "Epoch 19/20\n",
            "2/2 [==============================] - 1s 301ms/step - loss: 8.9306 - accuracy: 1.0000 - val_loss: nan - val_accuracy: 0.8750\n",
            "Epoch 20/20\n",
            "2/2 [==============================] - 0s 286ms/step - loss: 0.0000e+00 - accuracy: 1.0000 - val_loss: nan - val_accuracy: 1.0000\n",
            "1/1 [==============================] - 0s 68ms/step - loss: nan - accuracy: 1.0000\n",
            "Test loss: nan\n",
            "Test accuracy: 1.0000\n"
          ]
        }
      ],
      "source": [
        "import numpy as np\n",
        "from tensorflow import keras\n",
        "from tensorflow.keras import layers\n",
        "import tensorflow as tf\n",
        "from sklearn.model_selection import train_test_split\n",
        "from sklearn.preprocessing import LabelEncoder\n",
        "\n",
        "X = np.load(\"/content/Audio/processed_features.npy\",allow_pickle=True)\n",
        "Y = np.load(\"/content/Audio/labels.npy\",allow_pickle=True)\n",
        "rows, columns = X.shape[0],X[0].shape[0]\n",
        "array_2d = np.empty((rows, columns), dtype=object)\n",
        "\n",
        "# Fill the 2D array with lists from `X`\n",
        "for i in range(rows):\n",
        "    for j in range(X[i].shape[0]):\n",
        "        array_2d[i][j] = X[i][j]\n",
        "array_2d = array_2d.astype(np.float32)\n",
        "X=array_2d\n",
        "\n",
        "# Splitting the data into training and testing sets (80% for training, 20% for testing)\n",
        "split_ratio = 0.8\n",
        "split_index = int(split_ratio * len(X))\n",
        "\n",
        "X_train, X_test = X[:split_index], X[split_index:]\n",
        "Y_train, Y_test = Y[:split_index], Y[split_index:]\n",
        "\n",
        "# Reshape the data for CNN input (assuming 1 channel)\n",
        "X_train = X_train.reshape(X_train.shape[0], X_train.shape[1], 1)\n",
        "X_test = X_test.reshape(X_test.shape[0], X_test.shape[1], 1)\n",
        "\n",
        "# Convert labels to one-hot encoded vectors\n",
        "Y_train = keras.utils.to_categorical(Y_train, num_classes=2)\n",
        "Y_test = keras.utils.to_categorical(Y_test, num_classes=2)\n",
        "\n",
        "# Define the CNN model\n",
        "model = keras.Sequential()\n",
        "model.add(layers.Conv1D(32, 3, activation='relu', input_shape=(X_train.shape[1], 1)))\n",
        "model.add(layers.MaxPooling1D(2))\n",
        "model.add(layers.Flatten())\n",
        "model.add(layers.Dense(64, activation='relu'))\n",
        "model.add(layers.Dense(2, activation='softmax'))  # Assuming 2 output classes (binary classification)\n",
        "\n",
        "# Compile the model\n",
        "model.compile(optimizer='adam', loss='binary_crossentropy', metrics=['accuracy'])\n",
        "\n",
        "# Train the model\n",
        "batch_size = 16\n",
        "epochs = 20\n",
        "\n",
        "model.fit(X_train, Y_train, batch_size=batch_size, epochs=epochs, validation_data=(X_test, Y_test))\n",
        "\n",
        "# Evaluate the model on the test set\n",
        "loss, accuracy = model.evaluate(X_test, Y_test)\n",
        "print(f\"Test loss: {loss:.4f}\")\n",
        "print(f\"Test accuracy: {accuracy:.4f}\")"
      ]
    },
    {
      "cell_type": "code",
      "execution_count": 9,
      "metadata": {
        "colab": {
          "base_uri": "https://localhost:8080/"
        },
        "id": "Dew9Gq03RzeH",
        "outputId": "e40dab4c-7756-4867-b200-8335da870944"
      },
      "outputs": [
        {
          "name": "stdout",
          "output_type": "stream",
          "text": [
            "1/1 [==============================] - 0s 62ms/step\n",
            "['sleep-inducing', 'sleep-inducing', 'engaging', 'sleep-inducing', 'engaging', 'engaging', 'engaging', 'sleep-inducing', 'engaging', 'sleep-inducing']\n"
          ]
        }
      ],
      "source": [
        "\n",
        "#predictions on test audio\n",
        "new_samples = np.load(\"/content/test/processed_features.npy\",allow_pickle=True)\n",
        "new_y= np.load(\"/content/test/labels.npy\",allow_pickle=True)\n",
        "# print(new_y)\n",
        "new_y= keras.utils.to_categorical(new_y, num_classes=2)\n",
        "rows, columns = new_samples.shape[0],new_samples[0].shape[0]\n",
        "array_2 = np.empty((rows, columns), dtype=object)\n",
        "\n",
        "for i in range(rows):\n",
        "    for j in range(X[i].shape[0]):\n",
        "        array_2[i][j] = X[i][j]\n",
        "array_2 = array_2.astype(np.float32)\n",
        "new_samples=array_2\n",
        "new_samples = new_samples.reshape(new_samples.shape[0], new_samples.shape[1], 1)\n",
        "predictions = model.predict(new_samples)\n",
        "\n",
        "# Convert probabilities to class labels\n",
        "class_labels = ['engaging', 'sleep-inducing']\n",
        "predicted_labels = [class_labels[int((pred.argmax(axis=0)))] for pred in predictions]\n",
        "actual_labels=[class_labels[int((pred.argmax(axis=0)))] for pred in new_y]\n",
        "print(predicted_labels)"
      ]
    }
  ],
  "metadata": {
    "accelerator": "GPU",
    "colab": {
      "gpuType": "T4",
      "provenance": []
    },
    "kernelspec": {
      "display_name": "Python 3",
      "name": "python3"
    },
    "language_info": {
      "name": "python"
    }
  },
  "nbformat": 4,
  "nbformat_minor": 0
}
