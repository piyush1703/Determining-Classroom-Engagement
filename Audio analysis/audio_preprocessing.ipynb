{
  "nbformat": 4,
  "nbformat_minor": 0,
  "metadata": {
    "colab": {
      "provenance": []
    },
    "kernelspec": {
      "name": "python3",
      "display_name": "Python 3"
    },
    "language_info": {
      "name": "python"
    }
  },
  "cells": [
    {
      "cell_type": "code",
      "source": [
        "!pip install pydub"
      ],
      "metadata": {
        "colab": {
          "base_uri": "https://localhost:8080/"
        },
        "id": "sNmgEKO0Z5me",
        "outputId": "6cda4fd0-f7ac-4630-9f26-26ef0765599b"
      },
      "execution_count": null,
      "outputs": [
        {
          "output_type": "stream",
          "name": "stdout",
          "text": [
            "Looking in indexes: https://pypi.org/simple, https://us-python.pkg.dev/colab-wheels/public/simple/\n",
            "Collecting pydub\n",
            "  Downloading pydub-0.25.1-py2.py3-none-any.whl (32 kB)\n",
            "Installing collected packages: pydub\n",
            "Successfully installed pydub-0.25.1\n"
          ]
        }
      ]
    },
    {
      "cell_type": "code",
      "source": [
        "from pydub import AudioSegment\n",
        "import os\n",
        "from google.colab import files\n",
        "import shutil\n",
        "\n",
        "def merge_audio_files(input_folder, output_file):\n",
        "    merged_audio = AudioSegment.silent(duration=0)\n",
        "\n",
        "    for filename in os.listdir(input_folder):\n",
        "        if filename.endswith(\".mp3\") or filename.endswith(\".wav\"):\n",
        "            audio = AudioSegment.from_file(os.path.join(input_folder, filename))\n",
        "            merged_audio += audio\n",
        "\n",
        "    merged_audio.export(output_file, format=\"mp3\")\n",
        "\n",
        "def split_audio(input_file, output_folder, segment_length):\n",
        "    audio = AudioSegment.from_file(input_file)\n",
        "    total_length = len(audio)\n",
        "    segment_length_ms = segment_length * 60 * 1000  # Convert segment length from minutes to milliseconds\n",
        "    segment_start = 0\n",
        "    segment_end = segment_length_ms\n",
        "\n",
        "    # Create a temporary folder to store the segments\n",
        "    temp_folder = os.path.join(output_folder, \"temp\")\n",
        "    os.makedirs(temp_folder, exist_ok=True)\n",
        "\n",
        "    while segment_end <= total_length:\n",
        "        segment = audio[segment_start:segment_end]\n",
        "        output_filename = f\"segment_{int(segment_start/1000)}-{int(segment_end/1000)}.mp3\"\n",
        "        output_path = os.path.join(temp_folder, output_filename)\n",
        "        segment.export(output_path, format=\"mp3\")\n",
        "        \n",
        "        segment_start += segment_length_ms\n",
        "        segment_end += segment_length_ms\n",
        "\n",
        "    # Export the last segment if its duration is less than the segment length\n",
        "    if segment_start < total_length:\n",
        "        segment = audio[segment_start:]\n",
        "        output_filename = f\"segment_{int(segment_start/1000)}-{int(total_length/1000)}.mp3\"\n",
        "        output_path = os.path.join(temp_folder, output_filename)\n",
        "        segment.export(output_path, format=\"mp3\")\n",
        "\n",
        "    # Zip the temporary folder containing the segments\n",
        "    shutil.make_archive(output_folder, 'zip', temp_folder)\n",
        "\n",
        "    # Generate a download link for the zip file\n",
        "    files.download(output_folder + \".zip\")\n",
        "\n",
        "    # Remove the temporary folder\n",
        "    shutil.rmtree(temp_folder)\n",
        "\n",
        "# Example usage\n",
        "input_folder = \"/content/audio\"\n",
        "output_file = \"/content/audio/merged_audio.mp3\"\n",
        "output_folder = \"/content/result\"\n",
        "segment_length = 5  # Segment length in minutes\n",
        "\n",
        "# Merge audio files\n",
        "merge_audio_files(input_folder, output_file)\n",
        "\n",
        "# Split the merged audio into 5-minute segments and download all segments at once\n",
        "split_audio(output_file, output_folder, segment_length)\n"
      ],
      "metadata": {
        "colab": {
          "base_uri": "https://localhost:8080/",
          "height": 34
        },
        "id": "1Vqw6fjiiIWQ",
        "outputId": "aac6c681-c583-4738-bd0a-94cad1712583"
      },
      "execution_count": null,
      "outputs": [
        {
          "output_type": "display_data",
          "data": {
            "text/plain": [
              "<IPython.core.display.Javascript object>"
            ],
            "application/javascript": [
              "\n",
              "    async function download(id, filename, size) {\n",
              "      if (!google.colab.kernel.accessAllowed) {\n",
              "        return;\n",
              "      }\n",
              "      const div = document.createElement('div');\n",
              "      const label = document.createElement('label');\n",
              "      label.textContent = `Downloading \"${filename}\": `;\n",
              "      div.appendChild(label);\n",
              "      const progress = document.createElement('progress');\n",
              "      progress.max = size;\n",
              "      div.appendChild(progress);\n",
              "      document.body.appendChild(div);\n",
              "\n",
              "      const buffers = [];\n",
              "      let downloaded = 0;\n",
              "\n",
              "      const channel = await google.colab.kernel.comms.open(id);\n",
              "      // Send a message to notify the kernel that we're ready.\n",
              "      channel.send({})\n",
              "\n",
              "      for await (const message of channel.messages) {\n",
              "        // Send a message to notify the kernel that we're ready.\n",
              "        channel.send({})\n",
              "        if (message.buffers) {\n",
              "          for (const buffer of message.buffers) {\n",
              "            buffers.push(buffer);\n",
              "            downloaded += buffer.byteLength;\n",
              "            progress.value = downloaded;\n",
              "          }\n",
              "        }\n",
              "      }\n",
              "      const blob = new Blob(buffers, {type: 'application/binary'});\n",
              "      const a = document.createElement('a');\n",
              "      a.href = window.URL.createObjectURL(blob);\n",
              "      a.download = filename;\n",
              "      div.appendChild(a);\n",
              "      a.click();\n",
              "      div.remove();\n",
              "    }\n",
              "  "
            ]
          },
          "metadata": {}
        },
        {
          "output_type": "display_data",
          "data": {
            "text/plain": [
              "<IPython.core.display.Javascript object>"
            ],
            "application/javascript": [
              "download(\"download_591249ff-7fa0-49fe-a8cf-0aaafc22ea14\", \"result.zip\", 40982096)"
            ]
          },
          "metadata": {}
        }
      ]
    },
    {
      "cell_type": "code",
      "source": [
        "import numpy as np\n",
        "import librosa\n",
        "import os\n",
        "from sklearn.preprocessing import LabelEncoder\n",
        "\n",
        "# Define the path to your audio folders\n",
        "sleep_folder = \"Audio\\Sleep_audio\\sleep\"\n",
        "engaging_folder = \"Audio\\good oration\\engaging\"\n",
        "test_audio=\"Audio\\\\test audios\\\\test_audio_samples\"\n",
        "\n",
        "# Define the audio feature extraction parameters\n",
        "sampling_rate = 44100\n",
        "n_mfcc = 13\n",
        "frame_length = 0.025\n",
        "frame_hop = 0.01\n",
        "\n",
        "# Initialize empty lists for features and labels\n",
        "features = []\n",
        "labels = []\n",
        "\n",
        "# Function to extract features from audio files in a folder\n",
        "def extract_features_from_folder(folder, class_label):\n",
        "    for filename in os.listdir(folder):\n",
        "        if filename.endswith(\".mp3\"):\n",
        "            filepath = os.path.join(folder, filename)\n",
        "\n",
        "            # Load the audio file\n",
        "            audio, _ = librosa.load(filepath, sr=sampling_rate)\n",
        "\n",
        "            # Extract MFCC features\n",
        "            mfcc = librosa.feature.mfcc(y=audio, sr=sampling_rate, n_mfcc=n_mfcc,\n",
        "                                        hop_length=int(frame_hop * sampling_rate),\n",
        "                                        n_fft=int(frame_length * sampling_rate))\n",
        "\n",
        "            # Flatten the MFCC features\n",
        "            mfcc_flat = mfcc.flatten()\n",
        "\n",
        "            # Add the features and labels to the lists\n",
        "            features.append(mfcc_flat)\n",
        "            labels.append(class_label)\n",
        "\n",
        "# Extract features from the \"sleep\" folder\n",
        "extract_features_from_folder(sleep_folder, \"sleep\")\n",
        "\n",
        "# Extract features from the \"engaging\" folder\n",
        "extract_features_from_folder(engaging_folder, \"engaging\")\n",
        "\n",
        "#extract features from test audio folder\n",
        "extract_features_from_folder(test_audio, \"none\")\n",
        "\n",
        "# Convert the lists to numpy arrays\n",
        "features = np.array(features)\n",
        "labels = np.array(labels)\n",
        "\n",
        "# Preprocess the features if necessary (e.g., normalization)\n",
        "\n",
        "# Encode the labels to numerical values\n",
        "label_encoder = LabelEncoder()\n",
        "encoded_labels = label_encoder.fit_transform(labels)\n",
        "\n",
        "# Shuffle the data\n",
        "random_indices = np.random.permutation(len(features))\n",
        "features = features[random_indices]\n",
        "encoded_labels = encoded_labels[random_indices]\n",
        "\n",
        "# Save the preprocessed features and labels\n",
        "np.save(\"Audio\\\\test audios/processed_features.npy\", features)\n",
        "np.save(\"Audio\\\\test audios/labels.npy\", encoded_labels)\n",
        "\n",
        "# Save the label encoder for later use\n",
        "np.save(\"Audio\\\\test audios/label_encoder.npy\", label_encoder.classes_)"
      ],
      "metadata": {
        "id": "LXGHUUrtn7Hx"
      },
      "execution_count": null,
      "outputs": []
    }
  ]
}